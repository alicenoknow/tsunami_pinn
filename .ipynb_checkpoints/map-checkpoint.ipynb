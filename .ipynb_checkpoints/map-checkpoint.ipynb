{
 "cells": [
  {
   "cell_type": "code",
   "execution_count": 1,
   "metadata": {
    "id": "b_9CqiNW5lPg"
   },
   "outputs": [],
   "source": [
    "## Pawel Maczuga and Maciej Paszynski 2023\n",
    "\n",
    "import numpy as np\n",
    "import torch\n",
    "\n",
    "from datetime import datetime\n",
    "from torch import nn\n",
    "from typing import Callable, Tuple\n",
    "from utils import get_initial_points, plot_intial_condition, plot_simulation_by_frame, create_gif, ReportContext, create_report, plot_running_average"
   ]
  },
  {
   "cell_type": "code",
   "execution_count": 2,
   "metadata": {},
   "outputs": [
    {
     "data": {
      "text/plain": [
       "device(type='cuda')"
      ]
     },
     "execution_count": 2,
     "metadata": {},
     "output_type": "execute_result"
    }
   ],
   "source": [
    "device = torch.device(\"cuda\" if torch.cuda.is_available() else \"cpu\")\n",
    "device"
   ]
  },
  {
   "cell_type": "code",
   "execution_count": 3,
   "metadata": {},
   "outputs": [],
   "source": [
    "RUN_NUM = 3"
   ]
  },
  {
   "cell_type": "markdown",
   "metadata": {},
   "source": [
    "### Parameters"
   ]
  },
  {
   "cell_type": "code",
   "execution_count": 4,
   "metadata": {
    "id": "yRUNbvoDoDU9"
   },
   "outputs": [],
   "source": [
    "LENGTH = 2. # Domain size in x axis. Always starts at 0\n",
    "TOTAL_TIME = .5 # Domain size in t axis. Always starts at 0\n",
    "N_POINTS = 15 # Number of in single asxis\n",
    "N_POINTS_PLOT = 150 # Number of points in single axis used in plotting\n",
    "\n",
    "WEIGHT_RESIDUAL = 0.02 # Weight of residual part of loss function\n",
    "WEIGHT_INITIAL = 2.5 # Weight of initial part of loss function\n",
    "WEIGHT_BOUNDARY = 0.001 # Weight of boundary part of loss function\n",
    "\n",
    "# Original\n",
    "# WEIGHT_RESIDUAL = 0.03 # Weight of residual part of loss function\n",
    "# WEIGHT_INITIAL = 1.0 # Weight of initial part of loss function\n",
    "# WEIGHT_BOUNDARY = 0.0005 # Weight of boundary part of loss function\n",
    "\n",
    "LAYERS = 12\n",
    "NEURONS_PER_LAYER = 120\n",
    "EPOCHS = 100_000\n",
    "LEARNING_RATE = 0.00015\n",
    "GRAVITY=9.81"
   ]
  },
  {
   "cell_type": "markdown",
   "metadata": {},
   "source": [
    "## PINN"
   ]
  },
  {
   "cell_type": "code",
   "execution_count": 5,
   "metadata": {
    "id": "iO0Bk6pp5-oz"
   },
   "outputs": [],
   "source": [
    "class PINN(nn.Module):\n",
    "    \"\"\"Simple neural network accepting two features as input and returning a single output\n",
    "\n",
    "    In the context of PINNs, the neural network is used as universal function approximator\n",
    "    to approximate the solution of the differential equation\n",
    "    \"\"\"\n",
    "    def __init__(self, num_hidden: int, dim_hidden: int, act=nn.Tanh()):\n",
    "\n",
    "        super().__init__()\n",
    "\n",
    "        self.layer_in = nn.Linear(3, dim_hidden)\n",
    "        self.layer_out = nn.Linear(dim_hidden, 1)\n",
    "\n",
    "        num_middle = num_hidden - 1\n",
    "        self.middle_layers = nn.ModuleList(\n",
    "            [nn.Linear(dim_hidden, dim_hidden) for _ in range(num_middle)]\n",
    "        )\n",
    "        self.act = act\n",
    "\n",
    "    def forward(self, x, y, t):\n",
    "\n",
    "        x_stack = torch.cat([x, y, t], dim=1)\n",
    "        out = self.act(self.layer_in(x_stack))\n",
    "        for layer in self.middle_layers:\n",
    "            out = self.act(layer(out))\n",
    "        logits = self.layer_out(out)\n",
    "\n",
    "        return logits\n",
    "\n",
    "    def device(self):\n",
    "        return next(self.parameters()).device\n",
    "\n",
    "\n",
    "def f(pinn: PINN, x: torch.Tensor, y: torch.Tensor, t: torch.Tensor) -> torch.Tensor:\n",
    "    \"\"\"Compute the value of the approximate solution from the NN model\"\"\"\n",
    "    return pinn(x, y, t)\n",
    "\n",
    "\n",
    "def df(output: torch.Tensor, input: torch.Tensor, order: int = 1) -> torch.Tensor:\n",
    "    \"\"\"Compute neural network derivative with respect to input features using PyTorch autograd engine\"\"\"\n",
    "    df_value = output\n",
    "    for _ in range(order):\n",
    "        df_value = torch.autograd.grad(\n",
    "            df_value,\n",
    "            input,\n",
    "            grad_outputs=torch.ones_like(input),\n",
    "            create_graph=True,\n",
    "            retain_graph=True,\n",
    "        )[0]\n",
    "\n",
    "    return df_value\n",
    "\n",
    "\n",
    "def dfdt(pinn: PINN, x: torch.Tensor, y: torch.Tensor, t: torch.Tensor, f_val=None, order: int = 1):\n",
    "    f_value = f_val if f_val is not None else f(pinn, x, y, t)\n",
    "    # f_value = f(pinn, x, y, t)\n",
    "    return df(f_value, t, order=order)\n",
    "\n",
    "\n",
    "def dfdx(pinn: PINN, x: torch.Tensor, y: torch.Tensor, t: torch.Tensor, f_val=None, order: int = 1):\n",
    "    # f_value = f(pinn, x, y, t)\n",
    "    f_value = f_val if f_val is not None else f(pinn, x, y, t)\n",
    "    return df(f_value, x, order=order)\n",
    "\n",
    "def dfdy(pinn: PINN, x: torch.Tensor, y: torch.Tensor, t: torch.Tensor, f_val=None, order: int = 1):\n",
    "    # f_value = f(pinn, x, y, t)\n",
    "    f_value = f_val if f_val is not None else f(pinn, x, y, t)\n",
    "    return df(f_value, y, order=order)"
   ]
  },
  {
   "cell_type": "markdown",
   "metadata": {
    "id": "FPaX88HM6bTH"
   },
   "source": [
    "## Loss function"
   ]
  },
  {
   "cell_type": "code",
   "execution_count": 6,
   "metadata": {
    "id": "j4ScZDgu40Xw"
   },
   "outputs": [],
   "source": [
    "def get_boundary_points(x_domain, y_domain, t_domain, n_points, device = torch.device(\"cpu\"), requires_grad=True):\n",
    "    \"\"\"\n",
    "         .+------+\n",
    "       .' |    .'|\n",
    "      +---+--+'  |\n",
    "      |   |  |   |\n",
    "    y |  ,+--+---+\n",
    "      |.'    | .' t\n",
    "      +------+'\n",
    "         x\n",
    "    \"\"\"\n",
    "    x_linspace = torch.linspace(x_domain[0], x_domain[1], n_points)\n",
    "    y_linspace = torch.linspace(y_domain[0], y_domain[1], n_points)\n",
    "    t_linspace = torch.linspace(t_domain[0], t_domain[1], n_points)\n",
    "\n",
    "    x_grid, t_grid = torch.meshgrid( x_linspace, t_linspace, indexing=\"ij\")\n",
    "    y_grid, _      = torch.meshgrid( y_linspace, t_linspace, indexing=\"ij\")\n",
    "\n",
    "    x_grid = x_grid.reshape(-1, 1).to(device)\n",
    "    x_grid.requires_grad = requires_grad\n",
    "    y_grid = y_grid.reshape(-1, 1).to(device)\n",
    "    y_grid.requires_grad = requires_grad\n",
    "    t_grid = t_grid.reshape(-1, 1).to(device)\n",
    "    t_grid.requires_grad = requires_grad\n",
    "\n",
    "    x0 = torch.full_like(t_grid, x_domain[0], requires_grad=requires_grad)\n",
    "    x1 = torch.full_like(t_grid, x_domain[1], requires_grad=requires_grad)\n",
    "    y0 = torch.full_like(t_grid, y_domain[0], requires_grad=requires_grad)\n",
    "    y1 = torch.full_like(t_grid, y_domain[1], requires_grad=requires_grad)\n",
    "\n",
    "    down    = (x_grid, y0,     t_grid)\n",
    "    up      = (x_grid, y1,     t_grid)\n",
    "    left    = (x0,     y_grid, t_grid)\n",
    "    right   = (x1,     y_grid, t_grid)\n",
    "\n",
    "    return down, up, left, right"
   ]
  },
  {
   "cell_type": "markdown",
   "metadata": {},
   "source": [
    "#### Interior basic"
   ]
  },
  {
   "cell_type": "code",
   "execution_count": 7,
   "metadata": {
    "id": "EILfWcA3nX3O"
   },
   "outputs": [],
   "source": [
    "def get_interior_points(x_domain, y_domain, t_domain, n_points, device = torch.device(\"cpu\"), requires_grad=True):\n",
    "    x_raw = torch.linspace(x_domain[0], x_domain[1], steps=n_points, requires_grad=requires_grad)\n",
    "    y_raw = torch.linspace(y_domain[0], y_domain[1], steps=n_points, requires_grad=requires_grad)\n",
    "    t_raw = torch.linspace(t_domain[0], t_domain[1], steps=n_points, requires_grad=requires_grad)\n",
    "    grids = torch.meshgrid(x_raw, y_raw, t_raw, indexing=\"ij\")\n",
    "\n",
    "    # W tym miejscu wczytujemy punkty z pliku siatki\n",
    "    # Czy moglbys napisac tutaj wczytywanie punktow z pliku siatki\n",
    "    x = grids[0].reshape(-1, 1).to(device)\n",
    "    y = grids[1].reshape(-1, 1).to(device)\n",
    "    t = grids[2].reshape(-1, 1).to(device)\n",
    "\n",
    "    return x, y, t"
   ]
  },
  {
   "cell_type": "markdown",
   "metadata": {},
   "source": [
    "#### Interior based on bedside map"
   ]
  },
  {
   "cell_type": "code",
   "execution_count": 8,
   "metadata": {},
   "outputs": [],
   "source": [
    "MESH_FILENAME = \"valparaiso_square_UTM_translated_meshes/val_square_UTM_translated_0.inp\"\n",
    "\n",
    "def get_interior_points(x_domain, y_domain, t_domain, n_points, device = torch.device(\"cpu\"), requires_grad=True):\n",
    "    x_raw ,y_raw, z_raw = dump_points(MESH_FILENAME)\n",
    "    t_raw = torch.linspace(t_domain[0], t_domain[1], steps=n_points)\n",
    "    x_grid, t_grid = torch.meshgrid(x_raw, t_raw, indexing=\"ij\")\n",
    "    y_grid, _      = torch.meshgrid(y_raw, t_raw, indexing=\"ij\")\n",
    "    z_grid, _      = torch.meshgrid(z_raw, t_raw, indexing=\"ij\")\n",
    "\n",
    "    x = x_grid.reshape(-1, 1).to(device)\n",
    "    y = y_grid.reshape(-1, 1).to(device)\n",
    "    t = z_grid.reshape(-1, 1).to(device)\n",
    "    z = t_grid.reshape(-1, 1).to(device)\n",
    "    x.requires_grad = True\n",
    "    y.requires_grad = True\n",
    "    z.requires_grad = True\n",
    "    t.requires_grad = True\n",
    "\n",
    "    return x, y, z, t\n",
    "\n",
    "\n",
    "def dump_points(filename):\n",
    "    mesh = meshio.avsucd.read(filename)\n",
    "    points = torch.tensor(mesh.points, dtype=torch.float32)\n",
    "    x,y,z = points.transpose(0,1)\n",
    "    #-> translate into [0,1]\n",
    "    min_x = min(x)\n",
    "    min_y = min(y)\n",
    "    max_x = max(x)\n",
    "    max_y = max(y)\n",
    "    min_z = min(z)\n",
    "    max_z = max(z)\n",
    "    x = x - min_x\n",
    "    y = y - min_y\n",
    "#    z = z - min_z\n",
    "    dx = max_x - min_x\n",
    "    dy = max_y - min_y\n",
    "    dz = max_z - min_z\n",
    "    x = x / dx\n",
    "    y = y / dy\n",
    "    z = z / dz\n",
    "    #<-\n",
    "    return x,y,z"
   ]
  },
  {
   "cell_type": "code",
   "execution_count": 9,
   "metadata": {
    "id": "ncSFOeJ86jEC"
   },
   "outputs": [],
   "source": [
    "class Loss:\n",
    "    def __init__(\n",
    "        self,\n",
    "        x_domain: Tuple[float, float],\n",
    "        y_domain: Tuple[float, float],\n",
    "        t_domain: Tuple[float, float],\n",
    "        n_points: int,\n",
    "        initial_condition: Callable,\n",
    "        floor: Callable,\n",
    "        weight_r: float = 1.0,\n",
    "        weight_b: float = 1.0,\n",
    "        weight_i: float = 1.0,\n",
    "        verbose: bool = False,\n",
    "    ):\n",
    "        self.x_domain = x_domain\n",
    "        self.y_domain = y_domain\n",
    "        self.t_domain = t_domain\n",
    "        self.n_points = n_points\n",
    "        self.initial_condition = initial_condition\n",
    "        self.floor = floor\n",
    "        self.weight_r = weight_r\n",
    "        self.weight_b = weight_b\n",
    "        self.weight_i = weight_i\n",
    "\n",
    "    def residual_loss(self, pinn: PINN):\n",
    "        x, y, t = get_interior_points(self.x_domain, self.y_domain, self.t_domain, self.n_points, pinn.device())\n",
    "        u = f(pinn, x, y, t)\n",
    "        z = self.floor(x, y)\n",
    "        loss = dfdt(pinn, x, y, t, u, order=2) - \\\n",
    "                      GRAVITY * ( dfdx(pinn, x, y, t, u) ** 2 + \\\n",
    "                      (u-z) * dfdx(pinn, x, y, t, u, order=2) + \\\n",
    "                      dfdy(pinn, x, y, t, u) ** 2 + \\\n",
    "                      (u-z) * dfdy(pinn, x, y, t, u, order=2)\n",
    "                      )\n",
    "        return loss.pow(2).mean()\n",
    "\n",
    "    def initial_loss(self, pinn: PINN):\n",
    "        x, y, t = get_initial_points(self.x_domain, self.y_domain, self.t_domain, self.n_points, pinn.device())\n",
    "        pinn_init = self.initial_condition(x, y)\n",
    "        loss = f(pinn, x, y, t) - pinn_init\n",
    "        return loss.pow(2).mean()\n",
    "\n",
    "    def boundary_loss(self, pinn: PINN):\n",
    "        down, up, left, right = get_boundary_points(self.x_domain, self.y_domain, self.t_domain, self.n_points, pinn.device())\n",
    "        x_down,  y_down,  t_down    = down\n",
    "        x_up,    y_up,    t_up      = up\n",
    "        x_left,  y_left,  t_left    = left\n",
    "        x_right, y_right, t_right   = right\n",
    "\n",
    "        loss_down  = dfdy( pinn, x_down,  y_down,  t_down  )\n",
    "        loss_up    = dfdy( pinn, x_up,    y_up,    t_up    )\n",
    "        loss_left  = dfdx( pinn, x_left,  y_left,  t_left  )\n",
    "        loss_right = dfdx( pinn, x_right, y_right, t_right )\n",
    "\n",
    "        return loss_down.pow(2).mean()  + \\\n",
    "            loss_up.pow(2).mean()    + \\\n",
    "            loss_left.pow(2).mean()  + \\\n",
    "            loss_right.pow(2).mean()\n",
    "\n",
    "    def verbose(self, pinn: PINN, only_initial=False):\n",
    "        \"\"\"\n",
    "        Returns all parts of the loss function\n",
    "\n",
    "        Not used during training! Only for checking the results later.\n",
    "        \"\"\"\n",
    "        residual_loss = self.residual_loss(pinn)\n",
    "        initial_loss = self.initial_loss(pinn)\n",
    "        boundary_loss = self.boundary_loss(pinn)\n",
    "\n",
    "        final_loss = \\\n",
    "            self.weight_r * residual_loss + \\\n",
    "            self.weight_i * initial_loss + \\\n",
    "            self.weight_b * boundary_loss\n",
    "\n",
    "        if only_initial:\n",
    "          final_loss = \\\n",
    "            self.weight_r * residual_loss + \\\n",
    "            self.weight_i * initial_loss + \\\n",
    "            self.weight_b * boundary_loss # 5, 1000 i 1?, 0.0005\n",
    "\n",
    "        # print((self.weight_r * residual_loss).item(), (self.weight_i * initial_loss).item(), (self.weight_b * boundary_loss).item())\n",
    "        # print(self.weight_r, residual_loss.item(), self.weight_i, initial_loss.item(), self.weight_b, boundary_loss.item())\n",
    "\n",
    "        return final_loss, residual_loss, initial_loss, boundary_loss\n",
    "\n",
    "    def __call__(self, pinn: PINN, only_initial=False):\n",
    "        \"\"\"\n",
    "        Allows you to use instance of this class as if it was a function:\n",
    "\n",
    "        ```\n",
    "            >>> loss = Loss(*some_args)\n",
    "            >>> calculated_loss = loss(pinn)\n",
    "        ```\n",
    "        \"\"\"\n",
    "        return self.verbose(pinn, only_initial)"
   ]
  },
  {
   "cell_type": "markdown",
   "metadata": {
    "id": "R_EhvAmB-HsO"
   },
   "source": [
    "## Train function"
   ]
  },
  {
   "cell_type": "code",
   "execution_count": 10,
   "metadata": {
    "id": "gO-8FhOHxFIz"
   },
   "outputs": [],
   "source": [
    "def train_model(\n",
    "    nn_approximator: PINN,\n",
    "    loss_fn: Callable,\n",
    "    learning_rate: int = 0.01,\n",
    "    max_epochs: int = 1_000\n",
    ") -> PINN:\n",
    "\n",
    "    optimizer = torch.optim.Adam(nn_approximator.parameters(), lr=learning_rate)\n",
    "    loss_values = []\n",
    "    residual_loss_values = []\n",
    "    initial_loss_values = []\n",
    "    boundary_loss_values = []\n",
    "    top_loss = 100000000\n",
    "\n",
    "    for epoch in range(max_epochs):\n",
    "\n",
    "        try:\n",
    "            loss: torch.Tensor = loss_fn(nn_approximator)\n",
    "            optimizer.zero_grad()\n",
    "            loss[0].backward()\n",
    "            torch.nn.utils.clip_grad_norm_(nn_approximator.parameters(), 0.5)\n",
    "            optimizer.step()\n",
    "\n",
    "            if loss[0].item() < top_loss:\n",
    "                torch.save(nn_approximator, f\"./best_{RUN_NUM}.pt\")\n",
    "                top_loss = loss[0].item()\n",
    "\n",
    "            loss_values.append(loss[0].item())\n",
    "            residual_loss_values.append(loss[1].item())\n",
    "            initial_loss_values.append(loss[2].item())\n",
    "            boundary_loss_values.append(loss[3].item())\n",
    "            if (epoch + 1) % 1000 == 0:\n",
    "                print(f\"Epoch: {epoch + 1} - Loss: {float(loss[0].item()):>7f}, Residual Loss: {float(loss[1].item()):>7f}, Initital Loss: {float(loss[2].item()):>7f}, Boundary Loss: {float(loss[3].item()):>7f}\")\n",
    "\n",
    "        except KeyboardInterrupt:\n",
    "            break\n",
    "\n",
    "    return nn_approximator, np.array(loss_values), np.array(residual_loss_values), np.array(initial_loss_values), np.array(boundary_loss_values)"
   ]
  },
  {
   "cell_type": "code",
   "execution_count": 11,
   "metadata": {},
   "outputs": [],
   "source": [
    "def floor(x, y):\n",
    "    \"\"\"Get the sea floor value\"\"\"\n",
    "    return 0"
   ]
  },
  {
   "cell_type": "markdown",
   "metadata": {},
   "source": [
    "### Initial condition"
   ]
  },
  {
   "cell_type": "code",
   "execution_count": 12,
   "metadata": {
    "id": "10obIY3nZypX"
   },
   "outputs": [],
   "source": [
    "def initial_condition(x: torch.Tensor, y: torch.Tensor) -> torch.Tensor:\n",
    "    r = torch.sqrt((x-LENGTH/2)**2 + (y-LENGTH/2)**2)\n",
    "    res = 2 * torch.exp(-(r)**2 * 30) + 2\n",
    "    return res"
   ]
  },
  {
   "cell_type": "markdown",
   "metadata": {
    "id": "4y8UC4B2AR-X"
   },
   "source": [
    "# Running code"
   ]
  },
  {
   "cell_type": "markdown",
   "metadata": {
    "id": "cydEKxCd-W-s"
   },
   "source": [
    "## Train data"
   ]
  },
  {
   "cell_type": "code",
   "execution_count": 13,
   "metadata": {},
   "outputs": [],
   "source": [
    "# # with profiling\n",
    "# global x_domain, y_domain, t_domain, loss_fn, pinn_trained, loss_values, residual_loss_values, initial_loss_values, boundary_loss_values, losses\n",
    "\n",
    "# def run_training():\n",
    "#     pinn = PINN(LAYERS, NEURONS_PER_LAYER, act=nn.Tanh()).to(device)\n",
    "    \n",
    "#     x_domain = [0.0, LENGTH]\n",
    "#     y_domain = [0.0, LENGTH]\n",
    "#     t_domain = [0.0, TOTAL_TIME]\n",
    "    \n",
    "#     # train the PINN\n",
    "#     loss_fn = Loss(\n",
    "#         x_domain=x_domain,\n",
    "#         y_domain=y_domain,\n",
    "#         t_domain=t_domain,\n",
    "#         n_points=N_POINTS,\n",
    "#         initial_condition=initial_condition,\n",
    "#         floor=floor,\n",
    "#         weight_r=WEIGHT_RESIDUAL,\n",
    "#         weight_b=WEIGHT_BOUNDARY,\n",
    "#         weight_i=WEIGHT_INITIAL\n",
    "#     )\n",
    "    \n",
    "#     pinn_trained, loss_values, residual_loss_values, initial_loss_values, boundary_loss_values = train_model(\n",
    "#         pinn, loss_fn=loss_fn, learning_rate=LEARNING_RATE, max_epochs=EPOCHS)\n",
    "    \n",
    "#     pinn = pinn.cpu()\n",
    "#     losses = loss_fn.verbose(pinn)\n",
    "#     print(f'Total loss: \\t{losses[0]:.5f} ({losses[0]:.3E})')\n",
    "#     print(f'Interior loss: \\t{losses[1]:.5f} ({losses[1]:.3E})')\n",
    "#     print(f'Initial loss: \\t{losses[2]:.5f} ({losses[2]:.3E})')\n",
    "#     print(f'Boundary loss: \\t{losses[3]:.5f} ({losses[3]:.3E})')\n",
    "\n",
    "# %prun -D program3.prof run_training()"
   ]
  },
  {
   "cell_type": "code",
   "execution_count": null,
   "metadata": {
    "id": "br0hz_u9xKy4"
   },
   "outputs": [
    {
     "name": "stdout",
     "output_type": "stream",
     "text": [
      "Epoch: 1000 - Loss: 0.108887, Residual Loss: 0.003788, Initital Loss: 0.043525, Boundary Loss: 0.000015\n",
      "Epoch: 2000 - Loss: 0.090421, Residual Loss: 0.039918, Initital Loss: 0.035811, Boundary Loss: 0.094608\n",
      "Epoch: 3000 - Loss: 0.081672, Residual Loss: 0.121872, Initital Loss: 0.031637, Boundary Loss: 0.142742\n",
      "Epoch: 4000 - Loss: 0.077030, Residual Loss: 0.232582, Initital Loss: 0.028896, Boundary Loss: 0.139473\n",
      "Epoch: 5000 - Loss: 0.072846, Residual Loss: 0.212889, Initital Loss: 0.027374, Boundary Loss: 0.152015\n",
      "Epoch: 6000 - Loss: 0.070474, Residual Loss: 0.264391, Initital Loss: 0.026006, Boundary Loss: 0.170307\n",
      "Epoch: 7000 - Loss: 0.066111, Residual Loss: 0.256375, Initital Loss: 0.024318, Boundary Loss: 0.189162\n",
      "Epoch: 8000 - Loss: 0.062207, Residual Loss: 0.299880, Initital Loss: 0.022400, Boundary Loss: 0.209968\n",
      "Epoch: 9000 - Loss: 0.057588, Residual Loss: 0.303851, Initital Loss: 0.020510, Boundary Loss: 0.236021\n",
      "Epoch: 10000 - Loss: 0.054250, Residual Loss: 0.281254, Initital Loss: 0.019346, Boundary Loss: 0.259608\n",
      "Epoch: 11000 - Loss: 0.052044, Residual Loss: 0.453320, Initital Loss: 0.017065, Boundary Loss: 0.314782\n",
      "Epoch: 12000 - Loss: 0.044687, Residual Loss: 0.235769, Initital Loss: 0.015847, Boundary Loss: 0.353629\n",
      "Epoch: 13000 - Loss: 0.046172, Residual Loss: 0.396401, Initital Loss: 0.015145, Boundary Loss: 0.381142\n",
      "Epoch: 14000 - Loss: 0.044378, Residual Loss: 0.435215, Initital Loss: 0.014103, Boundary Loss: 0.415021\n",
      "Epoch: 15000 - Loss: 0.041746, Residual Loss: 0.381786, Initital Loss: 0.013472, Boundary Loss: 0.430148\n",
      "Epoch: 16000 - Loss: 0.041671, Residual Loss: 0.435573, Initital Loss: 0.013006, Boundary Loss: 0.445846\n",
      "Epoch: 17000 - Loss: 0.132900, Residual Loss: 4.832396, Initital Loss: 0.014336, Boundary Loss: 0.412063\n",
      "Epoch: 18000 - Loss: 0.039721, Residual Loss: 0.444552, Initital Loss: 0.012144, Boundary Loss: 0.470166\n",
      "Epoch: 19000 - Loss: 0.036424, Residual Loss: 0.324428, Initital Loss: 0.011784, Boundary Loss: 0.475843\n",
      "Epoch: 20000 - Loss: 0.041523, Residual Loss: 0.579103, Initital Loss: 0.011783, Boundary Loss: 0.484086\n",
      "Epoch: 21000 - Loss: 0.033734, Residual Loss: 0.288936, Initital Loss: 0.010978, Boundary Loss: 0.510732\n",
      "Epoch: 22000 - Loss: 0.037211, Residual Loss: 0.441116, Initital Loss: 0.011156, Boundary Loss: 0.497953\n",
      "Epoch: 23000 - Loss: 0.035453, Residual Loss: 0.454044, Initital Loss: 0.010332, Boundary Loss: 0.541580\n",
      "Epoch: 24000 - Loss: 0.035350, Residual Loss: 0.475243, Initital Loss: 0.010119, Boundary Loss: 0.546690\n",
      "Epoch: 25000 - Loss: 0.033501, Residual Loss: 0.408758, Initital Loss: 0.009911, Boundary Loss: 0.547363\n",
      "Epoch: 26000 - Loss: 0.034254, Residual Loss: 0.509564, Initital Loss: 0.009397, Boundary Loss: 0.570113\n",
      "Epoch: 27000 - Loss: 0.036582, Residual Loss: 0.642247, Initital Loss: 0.009266, Boundary Loss: 0.571511\n",
      "Epoch: 28000 - Loss: 0.034775, Residual Loss: 0.587731, Initital Loss: 0.008971, Boundary Loss: 0.593727\n",
      "Epoch: 29000 - Loss: 0.029161, Residual Loss: 0.345575, Initital Loss: 0.008656, Boundary Loss: 0.610096\n",
      "Epoch: 30000 - Loss: 0.032387, Residual Loss: 0.527246, Initital Loss: 0.008495, Boundary Loss: 0.604221\n",
      "Epoch: 31000 - Loss: 0.037218, Residual Loss: 0.740616, Initital Loss: 0.008723, Boundary Loss: 0.599021\n",
      "Epoch: 32000 - Loss: 0.030988, Residual Loss: 0.418705, Initital Loss: 0.008817, Boundary Loss: 0.571691\n",
      "Epoch: 33000 - Loss: 0.033380, Residual Loss: 0.498303, Initital Loss: 0.009148, Boundary Loss: 0.543014\n",
      "Epoch: 34000 - Loss: 0.032602, Residual Loss: 0.601624, Initital Loss: 0.007974, Boundary Loss: 0.634094\n",
      "Epoch: 35000 - Loss: 0.031837, Residual Loss: 0.579857, Initital Loss: 0.007841, Boundary Loss: 0.636486\n",
      "Epoch: 36000 - Loss: 0.026218, Residual Loss: 0.297209, Initital Loss: 0.007861, Boundary Loss: 0.620401\n",
      "Epoch: 37000 - Loss: 0.027878, Residual Loss: 0.431230, Initital Loss: 0.007439, Boundary Loss: 0.656820\n",
      "Epoch: 38000 - Loss: 0.029846, Residual Loss: 0.506135, Initital Loss: 0.007637, Boundary Loss: 0.630865\n",
      "Epoch: 39000 - Loss: 0.026220, Residual Loss: 0.394314, Initital Loss: 0.007064, Boundary Loss: 0.673903\n",
      "Epoch: 40000 - Loss: 0.025166, Residual Loss: 0.325650, Initital Loss: 0.007199, Boundary Loss: 0.655571\n",
      "Epoch: 41000 - Loss: 0.029276, Residual Loss: 0.572713, Initital Loss: 0.006861, Boundary Loss: 0.668852\n",
      "Epoch: 42000 - Loss: 0.025821, Residual Loss: 0.430411, Initital Loss: 0.006608, Boundary Loss: 0.693405\n",
      "Epoch: 43000 - Loss: 0.027417, Residual Loss: 0.436234, Initital Loss: 0.007223, Boundary Loss: 0.636072\n",
      "Epoch: 44000 - Loss: 0.031824, Residual Loss: 0.732857, Initital Loss: 0.006597, Boundary Loss: 0.675413\n",
      "Epoch: 45000 - Loss: 0.034758, Residual Loss: 0.799400, Initital Loss: 0.007255, Boundary Loss: 0.633361\n",
      "Epoch: 46000 - Loss: 0.034393, Residual Loss: 0.884170, Initital Loss: 0.006411, Boundary Loss: 0.682107\n"
     ]
    }
   ],
   "source": [
    "pinn = PINN(LAYERS, NEURONS_PER_LAYER, act=nn.Tanh()).to(device)\n",
    "\n",
    "x_domain = [0.0, LENGTH]\n",
    "y_domain = [0.0, LENGTH]\n",
    "t_domain = [0.0, TOTAL_TIME]\n",
    "\n",
    "# train the PINN\n",
    "loss_fn = Loss(\n",
    "    x_domain=x_domain,\n",
    "    y_domain=y_domain,\n",
    "    t_domain=t_domain,\n",
    "    n_points=N_POINTS,\n",
    "    initial_condition=initial_condition,\n",
    "    floor=floor,\n",
    "    weight_r=WEIGHT_RESIDUAL,\n",
    "    weight_b=WEIGHT_BOUNDARY,\n",
    "    weight_i=WEIGHT_INITIAL\n",
    ")\n",
    "\n",
    "pinn_trained, loss_values, residual_loss_values, initial_loss_values, boundary_loss_values = train_model(\n",
    "    pinn, loss_fn=loss_fn, learning_rate=LEARNING_RATE, max_epochs=EPOCHS)\n",
    "\n",
    "pinn = pinn.cpu()\n",
    "losses = loss_fn.verbose(pinn)\n",
    "\n",
    "print(f'Total loss: \\t{losses[0]:.5f} ({losses[0]:.3E})')\n",
    "print(f'Interior loss: \\t{losses[1]:.5f} ({losses[1]:.3E})')\n",
    "print(f'Initial loss: \\t{losses[2]:.5f} ({losses[2]:.3E})')\n",
    "print(f'Boundary loss: \\t{losses[3]:.5f} ({losses[3]:.3E})')"
   ]
  },
  {
   "cell_type": "code",
   "execution_count": null,
   "metadata": {
    "scrolled": true
   },
   "outputs": [],
   "source": [
    "plot_running_average(loss_values, \"Loss function (runnig average)\", \"total_loss\")"
   ]
  },
  {
   "cell_type": "code",
   "execution_count": null,
   "metadata": {
    "id": "CWgn1DG6aM9U",
    "scrolled": true
   },
   "outputs": [],
   "source": [
    "plot_running_average(residual_loss_values, \"Residual loss function (running average)\", \"residual_loss\")"
   ]
  },
  {
   "cell_type": "code",
   "execution_count": null,
   "metadata": {
    "id": "MndrmaIoaQLS",
    "scrolled": true
   },
   "outputs": [],
   "source": [
    "plot_running_average(initial_loss_values, \"Initial loss function (running average)\", \"initial_loss\")"
   ]
  },
  {
   "cell_type": "code",
   "execution_count": null,
   "metadata": {
    "id": "LgB0f7lVaTQS",
    "scrolled": true
   },
   "outputs": [],
   "source": [
    "plot_running_average(boundary_loss_values, \"Boundary loss function (running average)\", \"boundary_loss\")"
   ]
  },
  {
   "cell_type": "code",
   "execution_count": null,
   "metadata": {
    "scrolled": true
   },
   "outputs": [],
   "source": [
    "plot_intial_condition(x_domain=x_domain, \n",
    "                      y_domain=y_domain, \n",
    "                      t_domain=t_domain,\n",
    "                      pinn=pinn,\n",
    "                      initial_condition=initial_condition,\n",
    "                      n_points=N_POINTS_PLOT,\n",
    "                      length=LENGTH,\n",
    "                      floor=floor)"
   ]
  },
  {
   "cell_type": "code",
   "execution_count": null,
   "metadata": {
    "scrolled": true
   },
   "outputs": [],
   "source": [
    "plot_simulation_by_frame(total_time=TOTAL_TIME,\n",
    "                   x_domain=x_domain, \n",
    "                   y_domain=y_domain, \n",
    "                   t_domain=t_domain,\n",
    "                   pinn=pinn,\n",
    "                   n_points=N_POINTS_PLOT,\n",
    "                   length=LENGTH,\n",
    "                   floor=floor)"
   ]
  },
  {
   "cell_type": "code",
   "execution_count": null,
   "metadata": {},
   "outputs": [],
   "source": [
    "create_gif(TOTAL_TIME, title=f\"tsunami_{RUN_NUM}\")"
   ]
  },
  {
   "cell_type": "code",
   "execution_count": null,
   "metadata": {},
   "outputs": [],
   "source": [
    "date = datetime.now()\n",
    "\n",
    "context: ReportContext = {\n",
    "           'num': RUN_NUM,\n",
    "           'date': date,\n",
    "           'WEIGHT_RESIDUAL': WEIGHT_RESIDUAL, \n",
    "           'WEIGHT_INITIAL': WEIGHT_INITIAL, \n",
    "           'WEIGHT_BOUNDARY': WEIGHT_BOUNDARY,\n",
    "           'LAYERS': LAYERS, \n",
    "           'NEURONS_PER_LAYER': NEURONS_PER_LAYER,\n",
    "           'EPOCHS': EPOCHS, \n",
    "           'LEARNING_RATE': LEARNING_RATE,\n",
    "           'total_loss': f\"{losses[0]:.3E}\",\n",
    "           \"residual_loss\": f\"{losses[1]:.3E}\",\n",
    "           \"initial_loss\": f\"{losses[2]:.3E}\",\n",
    "           \"boundary_loss\": f\"{losses[3]:.3E}\",\n",
    "           \"img1\": \"./results/total_loss.png\",\n",
    "           \"img2\": \"./results/residual_loss.png\",\n",
    "           \"img3\": \"./results/initial_loss.png\",\n",
    "           \"img4\": \"./results/boundary_loss.png\",\n",
    "    }\n",
    "\n",
    "create_report(context,\n",
    "              env_path='./',\n",
    "              template_path='report_template.html',\n",
    "              report_title=f\"report_{RUN_NUM}.pdf\")"
   ]
  },
  {
   "cell_type": "code",
   "execution_count": null,
   "metadata": {},
   "outputs": [],
   "source": []
  },
  {
   "cell_type": "code",
   "execution_count": null,
   "metadata": {},
   "outputs": [],
   "source": []
  },
  {
   "cell_type": "code",
   "execution_count": null,
   "metadata": {},
   "outputs": [],
   "source": []
  },
  {
   "cell_type": "code",
   "execution_count": null,
   "metadata": {},
   "outputs": [],
   "source": []
  },
  {
   "cell_type": "markdown",
   "metadata": {},
   "source": [
    "### Evaluation"
   ]
  },
  {
   "cell_type": "code",
   "execution_count": null,
   "metadata": {},
   "outputs": [],
   "source": [
    "model = torch.load(f\"./best_{RUN_NUM}.pt\")"
   ]
  },
  {
   "cell_type": "code",
   "execution_count": null,
   "metadata": {},
   "outputs": [],
   "source": [
    "plot_simulation_by_frame(total_time=TOTAL_TIME,\n",
    "                   x_domain=x_domain, \n",
    "                   y_domain=y_domain, \n",
    "                   t_domain=t_domain,\n",
    "                   pinn=model,\n",
    "                   n_points=N_POINTS_PLOT,\n",
    "                   length=LENGTH,\n",
    "                   floor=floor)"
   ]
  },
  {
   "cell_type": "code",
   "execution_count": null,
   "metadata": {},
   "outputs": [],
   "source": []
  }
 ],
 "metadata": {
  "accelerator": "GPU",
  "colab": {
   "provenance": []
  },
  "gpuClass": "standard",
  "kernelspec": {
   "display_name": "Python 3 (ipykernel)",
   "language": "python",
   "name": "python3"
  },
  "language_info": {
   "codemirror_mode": {
    "name": "ipython",
    "version": 3
   },
   "file_extension": ".py",
   "mimetype": "text/x-python",
   "name": "python",
   "nbconvert_exporter": "python",
   "pygments_lexer": "ipython3",
   "version": "3.11.5"
  }
 },
 "nbformat": 4,
 "nbformat_minor": 4
}
