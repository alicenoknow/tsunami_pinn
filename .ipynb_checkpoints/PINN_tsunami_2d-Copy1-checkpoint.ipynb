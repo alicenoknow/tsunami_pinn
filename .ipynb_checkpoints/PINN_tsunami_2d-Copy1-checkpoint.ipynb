{
 "cells": [
  {
   "cell_type": "code",
   "execution_count": 1,
   "metadata": {
    "id": "b_9CqiNW5lPg"
   },
   "outputs": [],
   "source": [
    "## Pawel Maczuga and Maciej Paszynski 2023\n",
    "\n",
    "import numpy as np\n",
    "import torch\n",
    "\n",
    "from datetime import datetime\n",
    "from torch import nn\n",
    "from typing import Callable, Tuple\n",
    "from utils import get_initial_points, plot_intial_condition, plot_simulation_by_frame, create_gif, ReportContext, create_report, plot_running_average"
   ]
  },
  {
   "cell_type": "code",
   "execution_count": 2,
   "metadata": {},
   "outputs": [
    {
     "data": {
      "text/plain": [
       "device(type='cuda')"
      ]
     },
     "execution_count": 2,
     "metadata": {},
     "output_type": "execute_result"
    }
   ],
   "source": [
    "device = torch.device(\"cuda\" if torch.cuda.is_available() else \"cpu\")\n",
    "device"
   ]
  },
  {
   "cell_type": "code",
   "execution_count": 3,
   "metadata": {},
   "outputs": [],
   "source": [
    "RUN_NUM = 10"
   ]
  },
  {
   "cell_type": "markdown",
   "metadata": {},
   "source": [
    "### Parameters"
   ]
  },
  {
   "cell_type": "code",
   "execution_count": 4,
   "metadata": {
    "id": "yRUNbvoDoDU9"
   },
   "outputs": [],
   "source": [
    "LENGTH = 2. # Domain size in x axis. Always starts at 0\n",
    "TOTAL_TIME = .5 # Domain size in t axis. Always starts at 0\n",
    "N_POINTS = 15 # Number of in single asxis\n",
    "N_POINTS_PLOT = 150 # Number of points in single axis used in plotting\n",
    "\n",
    "WEIGHT_RESIDUAL = 0.03 # Weight of residual part of loss function\n",
    "WEIGHT_INITIAL = 2.5 # Weight of initial part of loss function\n",
    "WEIGHT_BOUNDARY = 0.0005 # Weight of boundary part of loss function\n",
    "\n",
    "# Original\n",
    "# WEIGHT_RESIDUAL = 0.03 # Weight of residual part of loss function\n",
    "# WEIGHT_INITIAL = 1.0 # Weight of initial part of loss function\n",
    "# WEIGHT_BOUNDARY = 0.0005 # Weight of boundary part of loss function\n",
    "\n",
    "LAYERS = 6\n",
    "NEURONS_PER_LAYER = 240\n",
    "EPOCHS = 100_000\n",
    "LEARNING_RATE = 0.00015\n",
    "GRAVITY=9.81"
   ]
  },
  {
   "cell_type": "markdown",
   "metadata": {},
   "source": [
    "## PINN"
   ]
  },
  {
   "cell_type": "code",
   "execution_count": 5,
   "metadata": {
    "id": "iO0Bk6pp5-oz"
   },
   "outputs": [],
   "source": [
    "class PINN(nn.Module):\n",
    "    \"\"\"Simple neural network accepting two features as input and returning a single output\n",
    "\n",
    "    In the context of PINNs, the neural network is used as universal function approximator\n",
    "    to approximate the solution of the differential equation\n",
    "    \"\"\"\n",
    "    def __init__(self, num_hidden: int, dim_hidden: int, act=nn.Tanh()):\n",
    "\n",
    "        super().__init__()\n",
    "\n",
    "        self.layer_in = nn.Linear(3, dim_hidden)\n",
    "        self.layer_out = nn.Linear(dim_hidden, 1)\n",
    "\n",
    "        num_middle = num_hidden - 1\n",
    "        self.middle_layers = nn.ModuleList(\n",
    "            [nn.Linear(dim_hidden, dim_hidden) for _ in range(num_middle)]\n",
    "        )\n",
    "        self.act = act\n",
    "\n",
    "    def forward(self, x, y, t):\n",
    "        x_stack = torch.cat([x, y, t], dim=1).to(self.device())\n",
    "        out = self.act(self.layer_in(x_stack))\n",
    "        for layer in self.middle_layers:\n",
    "            out = self.act(layer(out))\n",
    "        logits = self.layer_out(out)\n",
    "        return logits\n",
    "\n",
    "    def device(self):\n",
    "        return next(self.parameters()).device\n",
    "\n",
    "\n",
    "def f(pinn: PINN, x: torch.Tensor, y: torch.Tensor, t: torch.Tensor) -> torch.Tensor:\n",
    "    \"\"\"Compute the value of the approximate solution from the NN model\"\"\"\n",
    "    return pinn(x, y, t)\n",
    "\n",
    "\n",
    "def df(output: torch.Tensor, input: torch.Tensor, order: int = 1) -> torch.Tensor:\n",
    "    \"\"\"Compute neural network derivative with respect to input features using PyTorch autograd engine\"\"\"\n",
    "    df_value = output\n",
    "    for _ in range(order):\n",
    "        df_value = torch.autograd.grad(\n",
    "            df_value,\n",
    "            input,\n",
    "            grad_outputs=torch.ones_like(input),\n",
    "            create_graph=True,\n",
    "            retain_graph=True,\n",
    "        )[0]\n",
    "\n",
    "    return df_value\n",
    "\n",
    "# f_val just for speed up, to prevent recalculating f(pinn, x, y, t) multiple times\n",
    "def dfdt(pinn: PINN, x: torch.Tensor, y: torch.Tensor, t: torch.Tensor, f_val=None, order: int = 1):\n",
    "    f_value = f_val if f_val is not None else f(pinn, x, y, t)\n",
    "    # f_value = f(pinn, x, y, t)\n",
    "    return df(f_value, t, order=order)\n",
    "\n",
    "\n",
    "def dfdx(pinn: PINN, x: torch.Tensor, y: torch.Tensor, t: torch.Tensor, f_val=None, order: int = 1):\n",
    "    # f_value = f(pinn, x, y, t)\n",
    "    f_value = f_val if f_val is not None else f(pinn, x, y, t)\n",
    "    return df(f_value, x, order=order)\n",
    "\n",
    "def dfdy(pinn: PINN, x: torch.Tensor, y: torch.Tensor, t: torch.Tensor, f_val=None, order: int = 1):\n",
    "    # f_value = f(pinn, x, y, t)\n",
    "    f_value = f_val if f_val is not None else f(pinn, x, y, t)\n",
    "    return df(f_value, y, order=order)"
   ]
  },
  {
   "cell_type": "markdown",
   "metadata": {
    "id": "FPaX88HM6bTH"
   },
   "source": [
    "## Loss function"
   ]
  },
  {
   "cell_type": "code",
   "execution_count": 6,
   "metadata": {
    "id": "j4ScZDgu40Xw"
   },
   "outputs": [],
   "source": [
    "def get_boundary_points(x_domain, y_domain, t_domain, n_points, device = torch.device(\"cpu\"), requires_grad=True):\n",
    "    \"\"\"\n",
    "         .+------+\n",
    "       .' |    .'|\n",
    "      +---+--+'  |\n",
    "      |   |  |   |\n",
    "    y |  ,+--+---+\n",
    "      |.'    | .' t\n",
    "      +------+'\n",
    "         x\n",
    "    \"\"\"\n",
    "    x_linspace = torch.linspace(x_domain[0], x_domain[1], n_points)\n",
    "    y_linspace = torch.linspace(y_domain[0], y_domain[1], n_points)\n",
    "    t_linspace = torch.linspace(t_domain[0], t_domain[1], n_points)\n",
    "\n",
    "    x_grid, t_grid = torch.meshgrid( x_linspace, t_linspace, indexing=\"ij\")\n",
    "    y_grid, _      = torch.meshgrid( y_linspace, t_linspace, indexing=\"ij\")\n",
    "\n",
    "    x_grid = x_grid.reshape(-1, 1).to(device)\n",
    "    x_grid.requires_grad = requires_grad\n",
    "    y_grid = y_grid.reshape(-1, 1).to(device)\n",
    "    y_grid.requires_grad = requires_grad\n",
    "    t_grid = t_grid.reshape(-1, 1).to(device)\n",
    "    t_grid.requires_grad = requires_grad\n",
    "\n",
    "    x0 = torch.full_like(t_grid, x_domain[0], requires_grad=requires_grad)\n",
    "    x1 = torch.full_like(t_grid, x_domain[1], requires_grad=requires_grad)\n",
    "    y0 = torch.full_like(t_grid, y_domain[0], requires_grad=requires_grad)\n",
    "    y1 = torch.full_like(t_grid, y_domain[1], requires_grad=requires_grad)\n",
    "\n",
    "    down    = (x_grid, y0,     t_grid)\n",
    "    up      = (x_grid, y1,     t_grid)\n",
    "    left    = (x0,     y_grid, t_grid)\n",
    "    right   = (x1,     y_grid, t_grid)\n",
    "\n",
    "    return down, up, left, right"
   ]
  },
  {
   "cell_type": "markdown",
   "metadata": {},
   "source": [
    "#### Interior basic"
   ]
  },
  {
   "cell_type": "code",
   "execution_count": 7,
   "metadata": {
    "id": "EILfWcA3nX3O"
   },
   "outputs": [],
   "source": [
    "def get_interior_points(x_domain, y_domain, t_domain, n_points, device = torch.device(\"cpu\"), requires_grad=True):\n",
    "    x_raw = torch.linspace(x_domain[0], x_domain[1], steps=n_points, requires_grad=requires_grad)\n",
    "    y_raw = torch.linspace(y_domain[0], y_domain[1], steps=n_points, requires_grad=requires_grad)\n",
    "    t_raw = torch.linspace(t_domain[0], t_domain[1], steps=n_points, requires_grad=requires_grad)\n",
    "    grids = torch.meshgrid(x_raw, y_raw, t_raw, indexing=\"ij\")\n",
    "\n",
    "    # W tym miejscu wczytujemy punkty z pliku siatki\n",
    "    # Czy moglbys napisac tutaj wczytywanie punktow z pliku siatki\n",
    "    x = grids[0].reshape(-1, 1).to(device)\n",
    "    y = grids[1].reshape(-1, 1).to(device)\n",
    "    t = grids[2].reshape(-1, 1).to(device)\n",
    "\n",
    "    return x, y, t"
   ]
  },
  {
   "cell_type": "markdown",
   "metadata": {},
   "source": [
    "#### Interior based on bedside map"
   ]
  },
  {
   "cell_type": "code",
   "execution_count": 8,
   "metadata": {},
   "outputs": [],
   "source": [
    "# MESH_FILENAME = \"valparaiso_square_UTM_translated_meshes/val_square_UTM_translated_0.inp\"\n",
    "\n",
    "# def get_interior_points(x_domain, y_domain, t_domain, n_points, device = torch.device(\"cpu\"), requires_grad=True):\n",
    "#     x_raw ,y_raw, z_raw = dump_points(MESH_FILENAME)\n",
    "#     t_raw = torch.linspace(t_domain[0], t_domain[1], steps=n_points)\n",
    "#     x_grid, t_grid = torch.meshgrid(x_raw, t_raw, indexing=\"ij\")\n",
    "#     y_grid, _      = torch.meshgrid(y_raw, t_raw, indexing=\"ij\")\n",
    "#     z_grid, _      = torch.meshgrid(z_raw, t_raw, indexing=\"ij\")\n",
    "\n",
    "#     x = x_grid.reshape(-1, 1).to(device)\n",
    "#     y = y_grid.reshape(-1, 1).to(device)\n",
    "#     t = z_grid.reshape(-1, 1).to(device)\n",
    "#     z = t_grid.reshape(-1, 1).to(device)\n",
    "#     x.requires_grad = True\n",
    "#     y.requires_grad = True\n",
    "#     z.requires_grad = True\n",
    "#     t.requires_grad = True\n",
    "\n",
    "#     return x, y, z, t\n",
    "\n",
    "\n",
    "# def dump_points(filename):\n",
    "#     mesh = meshio.avsucd.read(filename)\n",
    "#     points = torch.tensor(mesh.points, dtype=torch.float32)\n",
    "#     x,y,z = points.transpose(0,1)\n",
    "#     #-> translate into [0,1]\n",
    "#     min_x = min(x)\n",
    "#     min_y = min(y)\n",
    "#     max_x = max(x)\n",
    "#     max_y = max(y)\n",
    "#     min_z = min(z)\n",
    "#     max_z = max(z)\n",
    "#     x = x - min_x\n",
    "#     y = y - min_y\n",
    "# #    z = z - min_z\n",
    "#     dx = max_x - min_x\n",
    "#     dy = max_y - min_y\n",
    "#     dz = max_z - min_z\n",
    "#     x = x / dx\n",
    "#     y = y / dy\n",
    "#     z = z / dz\n",
    "#     return x,y,z"
   ]
  },
  {
   "cell_type": "code",
   "execution_count": 9,
   "metadata": {
    "id": "ncSFOeJ86jEC"
   },
   "outputs": [],
   "source": [
    "class Loss:\n",
    "    def __init__(\n",
    "        self,\n",
    "        x_domain: Tuple[float, float],\n",
    "        y_domain: Tuple[float, float],\n",
    "        t_domain: Tuple[float, float],\n",
    "        n_points: int,\n",
    "        initial_condition: Callable,\n",
    "        floor: Callable,\n",
    "        weight_r: float = 1.0,\n",
    "        weight_b: float = 1.0,\n",
    "        weight_i: float = 1.0,\n",
    "        verbose: bool = False,\n",
    "    ):\n",
    "        self.x_domain = x_domain\n",
    "        self.y_domain = y_domain\n",
    "        self.t_domain = t_domain\n",
    "        self.n_points = n_points\n",
    "        self.initial_condition = initial_condition\n",
    "        self.floor = floor\n",
    "        self.weight_r = weight_r\n",
    "        self.weight_b = weight_b\n",
    "        self.weight_i = weight_i\n",
    "\n",
    "    def residual_loss(self, pinn: PINN):\n",
    "        x, y, t = get_interior_points(self.x_domain, self.y_domain, self.t_domain, self.n_points, pinn.device())\n",
    "        u = f(pinn, x, y, t)\n",
    "        z = self.floor(x, y)\n",
    "        loss = dfdt(pinn, x, y, t, u, order=2) - \\\n",
    "                      GRAVITY * ( dfdx(pinn, x, y, t, u) ** 2 + \\\n",
    "                      (u-z) * dfdx(pinn, x, y, t, u, order=2) + \\\n",
    "                      dfdy(pinn, x, y, t, u) ** 2 + \\\n",
    "                      (u-z) * dfdy(pinn, x, y, t, u, order=2)\n",
    "                      )\n",
    "        return loss.pow(2).mean()\n",
    "\n",
    "    def initial_loss(self, pinn: PINN):\n",
    "        x, y, t = get_initial_points(self.x_domain, self.y_domain, self.t_domain, self.n_points, pinn.device())\n",
    "        pinn_init = self.initial_condition(x, y)\n",
    "        loss = f(pinn, x, y, t) - pinn_init\n",
    "        return loss.pow(2).mean()\n",
    "\n",
    "    def boundary_loss(self, pinn: PINN):\n",
    "        down, up, left, right = get_boundary_points(self.x_domain, self.y_domain, self.t_domain, self.n_points, pinn.device())\n",
    "        x_down,  y_down,  t_down    = down\n",
    "        x_up,    y_up,    t_up      = up\n",
    "        x_left,  y_left,  t_left    = left\n",
    "        x_right, y_right, t_right   = right\n",
    "\n",
    "        loss_down  = dfdy( pinn, x_down,  y_down,  t_down  )\n",
    "        loss_up    = dfdy( pinn, x_up,    y_up,    t_up    )\n",
    "        loss_left  = dfdx( pinn, x_left,  y_left,  t_left  )\n",
    "        loss_right = dfdx( pinn, x_right, y_right, t_right )\n",
    "\n",
    "        return loss_down.pow(2).mean()  + \\\n",
    "            loss_up.pow(2).mean()    + \\\n",
    "            loss_left.pow(2).mean()  + \\\n",
    "            loss_right.pow(2).mean()\n",
    "\n",
    "    def verbose(self, pinn: PINN, only_initial=False):\n",
    "        \"\"\"\n",
    "        Returns all parts of the loss function\n",
    "\n",
    "        Not used during training! Only for checking the results later.\n",
    "        \"\"\"\n",
    "        residual_loss = self.residual_loss(pinn)\n",
    "        initial_loss = self.initial_loss(pinn)\n",
    "        boundary_loss = self.boundary_loss(pinn)\n",
    "\n",
    "        final_loss = \\\n",
    "            self.weight_r * residual_loss + \\\n",
    "            self.weight_i * initial_loss + \\\n",
    "            self.weight_b * boundary_loss\n",
    "\n",
    "        if only_initial:\n",
    "          final_loss = \\\n",
    "            self.weight_r * residual_loss + \\\n",
    "            self.weight_i * initial_loss + \\\n",
    "            self.weight_b * boundary_loss # 5, 1000 i 1?, 0.0005\n",
    "\n",
    "        # print((self.weight_r * residual_loss).item(), (self.weight_i * initial_loss).item(), (self.weight_b * boundary_loss).item())\n",
    "        # print(self.weight_r, residual_loss.item(), self.weight_i, initial_loss.item(), self.weight_b, boundary_loss.item())\n",
    "\n",
    "        return final_loss, residual_loss, initial_loss, boundary_loss\n",
    "\n",
    "    def __call__(self, pinn: PINN, only_initial=False):\n",
    "        \"\"\"\n",
    "        Allows you to use instance of this class as if it was a function:\n",
    "\n",
    "        ```\n",
    "            >>> loss = Loss(*some_args)\n",
    "            >>> calculated_loss = loss(pinn)\n",
    "        ```\n",
    "        \"\"\"\n",
    "        return self.verbose(pinn, only_initial)"
   ]
  },
  {
   "cell_type": "markdown",
   "metadata": {
    "id": "R_EhvAmB-HsO"
   },
   "source": [
    "## Train function"
   ]
  },
  {
   "cell_type": "code",
   "execution_count": 10,
   "metadata": {
    "id": "gO-8FhOHxFIz"
   },
   "outputs": [],
   "source": [
    "def train_model(\n",
    "    nn_approximator: PINN,\n",
    "    loss_fn: Callable,\n",
    "    learning_rate: int = 0.01,\n",
    "    max_epochs: int = 1_000\n",
    ") -> PINN:\n",
    "\n",
    "    optimizer = torch.optim.Adam(nn_approximator.parameters(), lr=learning_rate)\n",
    "    loss_values = []\n",
    "    residual_loss_values = []\n",
    "    initial_loss_values = []\n",
    "    boundary_loss_values = []\n",
    "    top_loss = 100000000\n",
    "\n",
    "    for epoch in range(max_epochs):\n",
    "\n",
    "        try:\n",
    "            loss: torch.Tensor = loss_fn(nn_approximator)\n",
    "            optimizer.zero_grad()\n",
    "            loss[0].backward()\n",
    "            torch.nn.utils.clip_grad_norm_(nn_approximator.parameters(), 0.5) # new\n",
    "            optimizer.step()\n",
    "\n",
    "            if loss[0].item() < top_loss:\n",
    "                torch.save(nn_approximator, f\"./best_{RUN_NUM}.pt\")\n",
    "                top_loss = loss[0].item()\n",
    "\n",
    "            loss_values.append(loss[0].item())\n",
    "            residual_loss_values.append(loss[1].item())\n",
    "            initial_loss_values.append(loss[2].item())\n",
    "            boundary_loss_values.append(loss[3].item())\n",
    "            if (epoch + 1) % 1000 == 0:\n",
    "                print(f\"Epoch: {epoch + 1} - Loss: {float(loss[0].item()):>7f}, Residual Loss: {float(loss[1].item()):>7f}, Initital Loss: {float(loss[2].item()):>7f}, Boundary Loss: {float(loss[3].item()):>7f}\")\n",
    "\n",
    "        except KeyboardInterrupt:\n",
    "            break\n",
    "\n",
    "    return nn_approximator, np.array(loss_values), np.array(residual_loss_values), np.array(initial_loss_values), np.array(boundary_loss_values)"
   ]
  },
  {
   "cell_type": "code",
   "execution_count": 11,
   "metadata": {},
   "outputs": [],
   "source": [
    "def floor(x, y):\n",
    "    \"\"\"Get the sea floor value\"\"\"\n",
    "    return 0"
   ]
  },
  {
   "cell_type": "markdown",
   "metadata": {},
   "source": [
    "### Initial condition"
   ]
  },
  {
   "cell_type": "code",
   "execution_count": 12,
   "metadata": {
    "id": "10obIY3nZypX"
   },
   "outputs": [],
   "source": [
    "def initial_condition(x: torch.Tensor, y: torch.Tensor) -> torch.Tensor:\n",
    "    r = torch.sqrt((x-LENGTH/2)**2 + (y-LENGTH/2)**2)\n",
    "    res = 2 * torch.exp(-(r)**2 * 30) + 2\n",
    "    return res"
   ]
  },
  {
   "cell_type": "markdown",
   "metadata": {
    "id": "4y8UC4B2AR-X"
   },
   "source": [
    "# Running code"
   ]
  },
  {
   "cell_type": "markdown",
   "metadata": {
    "id": "cydEKxCd-W-s"
   },
   "source": [
    "## Train data"
   ]
  },
  {
   "cell_type": "code",
   "execution_count": 13,
   "metadata": {},
   "outputs": [],
   "source": [
    "# # with profiling\n",
    "# global x_domain, y_domain, t_domain, loss_fn, pinn_trained, loss_values, residual_loss_values, initial_loss_values, boundary_loss_values, losses\n",
    "\n",
    "# def run_training():\n",
    "#     pinn = PINN(LAYERS, NEURONS_PER_LAYER, act=nn.Tanh()).to(device)\n",
    "    \n",
    "#     x_domain = [0.0, LENGTH]\n",
    "#     y_domain = [0.0, LENGTH]\n",
    "#     t_domain = [0.0, TOTAL_TIME]\n",
    "    \n",
    "#     # train the PINN\n",
    "#     loss_fn = Loss(\n",
    "#         x_domain=x_domain,\n",
    "#         y_domain=y_domain,\n",
    "#         t_domain=t_domain,\n",
    "#         n_points=N_POINTS,\n",
    "#         initial_condition=initial_condition,\n",
    "#         floor=floor,\n",
    "#         weight_r=WEIGHT_RESIDUAL,\n",
    "#         weight_b=WEIGHT_BOUNDARY,\n",
    "#         weight_i=WEIGHT_INITIAL\n",
    "#     )\n",
    "    \n",
    "#     pinn_trained, loss_values, residual_loss_values, initial_loss_values, boundary_loss_values = train_model(\n",
    "#         pinn, loss_fn=loss_fn, learning_rate=LEARNING_RATE, max_epochs=EPOCHS)\n",
    "    \n",
    "#     pinn = pinn.cpu()\n",
    "#     losses = loss_fn.verbose(pinn)\n",
    "#     print(f'Total loss: \\t{losses[0]:.5f} ({losses[0]:.3E})')\n",
    "#     print(f'Interior loss: \\t{losses[1]:.5f} ({losses[1]:.3E})')\n",
    "#     print(f'Initial loss: \\t{losses[2]:.5f} ({losses[2]:.3E})')\n",
    "#     print(f'Boundary loss: \\t{losses[3]:.5f} ({losses[3]:.3E})')\n",
    "\n",
    "# %prun -D program3.prof run_training()"
   ]
  },
  {
   "cell_type": "code",
   "execution_count": null,
   "metadata": {
    "id": "br0hz_u9xKy4"
   },
   "outputs": [
    {
     "name": "stdout",
     "output_type": "stream",
     "text": [
      "Epoch: 1000 - Loss: 0.099952, Residual Loss: 0.030543, Initital Loss: 0.039602, Boundary Loss: 0.062950\n"
     ]
    }
   ],
   "source": [
    "pinn = PINN(LAYERS, NEURONS_PER_LAYER, act=nn.Tanh()).to(device)\n",
    "\n",
    "x_domain = [0.0, LENGTH]\n",
    "y_domain = [0.0, LENGTH]\n",
    "t_domain = [0.0, TOTAL_TIME]\n",
    "\n",
    "# train the PINN\n",
    "loss_fn = Loss(\n",
    "    x_domain=x_domain,\n",
    "    y_domain=y_domain,\n",
    "    t_domain=t_domain,\n",
    "    n_points=N_POINTS,\n",
    "    initial_condition=initial_condition,\n",
    "    floor=floor,\n",
    "    weight_r=WEIGHT_RESIDUAL,\n",
    "    weight_b=WEIGHT_BOUNDARY,\n",
    "    weight_i=WEIGHT_INITIAL\n",
    ")\n",
    "\n",
    "pinn_trained, loss_values, residual_loss_values, initial_loss_values, boundary_loss_values = train_model(\n",
    "    pinn, loss_fn=loss_fn, learning_rate=LEARNING_RATE, max_epochs=EPOCHS)\n",
    "\n",
    "pinn = pinn.cpu()\n",
    "losses = loss_fn.verbose(pinn)\n",
    "\n",
    "print(f'Total loss: \\t{losses[0]:.5f} ({losses[0]:.3E})')\n",
    "print(f'Interior loss: \\t{losses[1]:.5f} ({losses[1]:.3E})')\n",
    "print(f'Initial loss: \\t{losses[2]:.5f} ({losses[2]:.3E})')\n",
    "print(f'Boundary loss: \\t{losses[3]:.5f} ({losses[3]:.3E})')"
   ]
  },
  {
   "cell_type": "code",
   "execution_count": null,
   "metadata": {
    "scrolled": true
   },
   "outputs": [],
   "source": [
    "plot_running_average(loss_values, \"Loss function (runnig average)\", \"total_loss\")"
   ]
  },
  {
   "cell_type": "code",
   "execution_count": null,
   "metadata": {
    "id": "CWgn1DG6aM9U",
    "scrolled": true
   },
   "outputs": [],
   "source": [
    "plot_running_average(residual_loss_values, \"Residual loss function (running average)\", \"residual_loss\")"
   ]
  },
  {
   "cell_type": "code",
   "execution_count": null,
   "metadata": {
    "id": "MndrmaIoaQLS",
    "scrolled": true
   },
   "outputs": [],
   "source": [
    "plot_running_average(initial_loss_values, \"Initial loss function (running average)\", \"initial_loss\")"
   ]
  },
  {
   "cell_type": "code",
   "execution_count": null,
   "metadata": {
    "id": "LgB0f7lVaTQS",
    "scrolled": true
   },
   "outputs": [],
   "source": [
    "plot_running_average(boundary_loss_values, \"Boundary loss function (running average)\", \"boundary_loss\")"
   ]
  },
  {
   "cell_type": "code",
   "execution_count": null,
   "metadata": {
    "scrolled": true
   },
   "outputs": [],
   "source": [
    "plot_intial_condition(x_domain=x_domain, \n",
    "                      y_domain=y_domain, \n",
    "                      t_domain=t_domain,\n",
    "                      pinn=pinn,\n",
    "                      initial_condition=initial_condition,\n",
    "                      n_points=N_POINTS_PLOT,\n",
    "                      length=LENGTH,\n",
    "                      floor=floor)"
   ]
  },
  {
   "cell_type": "code",
   "execution_count": null,
   "metadata": {
    "scrolled": true
   },
   "outputs": [],
   "source": [
    "plot_simulation_by_frame(total_time=TOTAL_TIME,\n",
    "                   x_domain=x_domain, \n",
    "                   y_domain=y_domain, \n",
    "                   t_domain=t_domain,\n",
    "                   pinn=pinn,\n",
    "                   n_points=N_POINTS_PLOT,\n",
    "                   length=LENGTH,\n",
    "                   floor=floor)"
   ]
  },
  {
   "cell_type": "code",
   "execution_count": null,
   "metadata": {},
   "outputs": [],
   "source": [
    "create_gif(TOTAL_TIME, title=f\"tsunami_{RUN_NUM}\")"
   ]
  },
  {
   "cell_type": "code",
   "execution_count": null,
   "metadata": {},
   "outputs": [],
   "source": [
    "date = datetime.now()\n",
    "\n",
    "context: ReportContext = {\n",
    "           'num': RUN_NUM,\n",
    "           'date': date,\n",
    "           'WEIGHT_RESIDUAL': WEIGHT_RESIDUAL, \n",
    "           'WEIGHT_INITIAL': WEIGHT_INITIAL, \n",
    "           'WEIGHT_BOUNDARY': WEIGHT_BOUNDARY,\n",
    "           'LAYERS': LAYERS, \n",
    "           'NEURONS_PER_LAYER': NEURONS_PER_LAYER,\n",
    "           'EPOCHS': EPOCHS, \n",
    "           'LEARNING_RATE': LEARNING_RATE,\n",
    "           'total_loss': f\"{losses[0]:.3E}\",\n",
    "           \"residual_loss\": f\"{losses[1]:.3E}\",\n",
    "           \"initial_loss\": f\"{losses[2]:.3E}\",\n",
    "           \"boundary_loss\": f\"{losses[3]:.3E}\",\n",
    "           \"img1\": \"./results/total_loss.png\",\n",
    "           \"img2\": \"./results/residual_loss.png\",\n",
    "           \"img3\": \"./results/initial_loss.png\",\n",
    "           \"img4\": \"./results/boundary_loss.png\",\n",
    "    }\n",
    "\n",
    "create_report(context,\n",
    "              env_path='./',\n",
    "              template_path='report_template.html',\n",
    "              report_title=f\"report_{RUN_NUM}.pdf\")"
   ]
  },
  {
   "cell_type": "code",
   "execution_count": null,
   "metadata": {},
   "outputs": [],
   "source": []
  },
  {
   "cell_type": "code",
   "execution_count": null,
   "metadata": {},
   "outputs": [],
   "source": []
  },
  {
   "cell_type": "code",
   "execution_count": null,
   "metadata": {},
   "outputs": [],
   "source": []
  },
  {
   "cell_type": "code",
   "execution_count": null,
   "metadata": {},
   "outputs": [],
   "source": []
  },
  {
   "cell_type": "markdown",
   "metadata": {},
   "source": [
    "### Evaluation"
   ]
  },
  {
   "cell_type": "code",
   "execution_count": null,
   "metadata": {},
   "outputs": [],
   "source": [
    "model = torch.load(f\"./best_{RUN_NUM}.pt\")"
   ]
  },
  {
   "cell_type": "code",
   "execution_count": null,
   "metadata": {},
   "outputs": [],
   "source": [
    "plot_simulation_by_frame(total_time=TOTAL_TIME,\n",
    "                   x_domain=x_domain, \n",
    "                   y_domain=y_domain, \n",
    "                   t_domain=t_domain,\n",
    "                   pinn=model,\n",
    "                   n_points=N_POINTS_PLOT,\n",
    "                   length=LENGTH,\n",
    "                   floor=floor)"
   ]
  },
  {
   "cell_type": "code",
   "execution_count": null,
   "metadata": {},
   "outputs": [],
   "source": []
  },
  {
   "cell_type": "code",
   "execution_count": null,
   "metadata": {},
   "outputs": [],
   "source": []
  },
  {
   "cell_type": "code",
   "execution_count": null,
   "metadata": {},
   "outputs": [],
   "source": []
  },
  {
   "cell_type": "code",
   "execution_count": null,
   "metadata": {},
   "outputs": [],
   "source": [
    "## Test"
   ]
  },
  {
   "cell_type": "code",
   "execution_count": null,
   "metadata": {},
   "outputs": [],
   "source": [
    "def floor_v2(x,y):\n",
    "    "
   ]
  },
  {
   "cell_type": "code",
   "execution_count": null,
   "metadata": {},
   "outputs": [],
   "source": [
    "import meshio\n",
    "MESH_FILENAME = \"valparaiso_square_UTM_translated_meshes/val_square_UTM_translated_0.inp\"\n",
    "\n",
    "def get_interior_points(x_domain, y_domain, t_domain, n_points, device = torch.device(\"cpu\"), requires_grad=True):\n",
    "    x_raw ,y_raw, z_raw = dump_points(MESH_FILENAME)\n",
    "    t_raw = torch.linspace(t_domain[0], t_domain[1], steps=n_points)\n",
    "    x_grid, t_grid = torch.meshgrid(x_raw, t_raw, indexing=\"ij\")\n",
    "    y_grid, _      = torch.meshgrid(y_raw, t_raw, indexing=\"ij\")\n",
    "    z_grid, _      = torch.meshgrid(z_raw, t_raw, indexing=\"ij\")\n",
    "\n",
    "    x = x_grid.reshape(-1, 1).to(device)\n",
    "    y = y_grid.reshape(-1, 1).to(device)\n",
    "    t = z_grid.reshape(-1, 1).to(device)\n",
    "    z = t_grid.reshape(-1, 1).to(device)\n",
    "    x.requires_grad = True\n",
    "    y.requires_grad = True\n",
    "    z.requires_grad = True\n",
    "    t.requires_grad = True\n",
    "\n",
    "    return x, y, z, t\n",
    "\n",
    "\n",
    "def dump_points(filename):\n",
    "    mesh = meshio.avsucd.read(filename)\n",
    "    points = torch.tensor(mesh.points, dtype=torch.float32)\n",
    "    x,y,z = points.transpose(0,1)\n",
    "    #-> translate into [0,1]\n",
    "    min_x = min(x)\n",
    "    min_y = min(y)\n",
    "    max_x = max(x)\n",
    "    max_y = max(y)\n",
    "    min_z = min(z)\n",
    "    max_z = max(z)\n",
    "    x = x - min_x\n",
    "    y = y - min_y\n",
    "#    z = z - min_z\n",
    "    dx = max_x - min_x\n",
    "    dy = max_y - min_y\n",
    "    dz = max_z - min_z\n",
    "    x = x / dx\n",
    "    y = y / dy\n",
    "    z = z / dz\n",
    "    return x,y,z"
   ]
  },
  {
   "cell_type": "code",
   "execution_count": null,
   "metadata": {},
   "outputs": [],
   "source": [
    "x,y,z,t = get_interior_points((0,1), (0,1), (0,1), N_POINTS, device)"
   ]
  },
  {
   "cell_type": "code",
   "execution_count": null,
   "metadata": {},
   "outputs": [],
   "source": [
    "# import matplotlib.pyplot as plt\n",
    "\n",
    "fig = plt.figure()\n",
    "ax = fig.add_subplot(111, projection='3d')\n",
    "\n",
    "# Scatter plot\n",
    "ax.scatter(x=x.cpu(), y=y.cpu(), z=z.cpu(), c=t.cpu().ravel(), cmap='viridis')\n",
    "\n",
    "# Set labels\n",
    "ax.set_xlabel('X-axis')\n",
    "ax.set_ylabel('Y-axis')\n",
    "ax.set_zlabel('Z-axis')\n",
    "\n",
    "plt.show()"
   ]
  },
  {
   "cell_type": "code",
   "execution_count": null,
   "metadata": {},
   "outputs": [],
   "source": []
  },
  {
   "cell_type": "code",
   "execution_count": null,
   "metadata": {},
   "outputs": [],
   "source": [
    "import imageio\n",
    "import jinja2\n",
    "import matplotlib.pyplot as plt\n",
    "import numpy as np\n",
    "import torch\n",
    "\n",
    "from datetime import datetime\n",
    "from matplotlib.animation import FuncAnimation\n",
    "from typing import List, TypedDict, Callable\n",
    "from xhtml2pdf import pisa\n",
    "\n",
    "\n",
    "class ReportContext(TypedDict):\n",
    "    num: int\n",
    "    date: datetime\n",
    "    WEIGHT_RESIDUAL: float \n",
    "    WEIGHT_INITIAL: float \n",
    "    WEIGHT_BOUNDARY: float\n",
    "    LAYERS: int\n",
    "    NEURONS_PER_LAYER: int\n",
    "    EPOCHS: int \n",
    "    LEARNING_RATE: float\n",
    "    total_loss: float\n",
    "    residual_loss: float\n",
    "    initial_loss: float\n",
    "    boundary_loss: float\n",
    "    img1: str\n",
    "    img2: str\n",
    "    img3: str\n",
    "    img4: str\n",
    "\n",
    "\n",
    "def create_report(context: ReportContext, \n",
    "                  env_path: str, \n",
    "                  template_path: str, \n",
    "                  report_title: str) -> None:\n",
    "    template_loader = jinja2.FileSystemLoader(env_path)\n",
    "    template_env = jinja2.Environment(loader=template_loader)\n",
    "\n",
    "    template = template_env.get_template(template_path)\n",
    "    output_text = template.render(context)\n",
    "    \n",
    "    with open(f'./results/{report_title}', \"w+b\") as out_pdf_file_handle:\n",
    "        pisa.CreatePDF(src=output_text, dest=out_pdf_file_handle)\n",
    "        \n",
    "def create_gif(total_time: float, \n",
    "               title: str, \n",
    "               step: float=0.01, \n",
    "               base_dir: str=\".\", \n",
    "               duration: float=0.1) -> None:\n",
    "    time_values = np.arange(0, total_time, step)\n",
    "    frames = []\n",
    "    for idx in range(len(time_values)):\n",
    "        image = imageio.v2.imread(base_dir + '/img/img_{:03d}.png'.format(idx))\n",
    "        frames.append(image)\n",
    "\n",
    "    imageio.mimsave(f'{base_dir}/results/{title}.gif', frames, duration=duration)\n",
    "\n",
    "def get_initial_points(x_domain: List[float], \n",
    "                       y_domain: List[float], \n",
    "                       t_domain: List[float], \n",
    "                       n_points: int, \n",
    "                       device=torch.device(\"cpu\"), \n",
    "                       requires_grad=True):\n",
    "    x_linspace = torch.linspace(x_domain[0], x_domain[1], n_points)\n",
    "    y_linspace = torch.linspace(y_domain[0], y_domain[1], n_points)\n",
    "    x_grid, y_grid = torch.meshgrid( x_linspace, y_linspace, indexing=\"ij\")\n",
    "    x_grid = x_grid.reshape(-1, 1).to(device)\n",
    "    x_grid.requires_grad = requires_grad\n",
    "    y_grid = y_grid.reshape(-1, 1).to(device)\n",
    "    y_grid.requires_grad = requires_grad\n",
    "    t0 = torch.full_like(x_grid, t_domain[0], requires_grad=requires_grad)\n",
    "    return (x_grid, y_grid, t0)\n",
    "\n",
    "def plot_intial_condition(x_domain: List[float], \n",
    "                          y_domain: List[float], \n",
    "                          t_domain: List[float],\n",
    "                          length: float,\n",
    "                          pinn: 'PINN',\n",
    "                          initial_condition: Callable,\n",
    "                          floor: Callable,\n",
    "                          n_points: int) -> None:\n",
    "    title = \"Initial condition\"\n",
    "    \n",
    "    x, y, _ = get_initial_points(x_domain, y_domain, t_domain, n_points, requires_grad=False)\n",
    "    z = initial_condition(x, y)\n",
    "    \n",
    "    fig = plot_color(z, x, y, n_points, n_points, f\"{title} - exact\")\n",
    "    fig = plot_3D(z, x, y, n_points, n_points, length, floor, f\"{title} - exact\", n_points)\n",
    "    \n",
    "    t_value = 0.0\n",
    "    t = torch.full_like(x, t_value)\n",
    "    z = pinn(x, y, t)\n",
    "    \n",
    "    fig = plot_color(z, x, y, n_points, n_points, f\"{title} - PINN\")    \n",
    "    fig = plot_3D(z, x, y, n_points, n_points, length, floor, f\"{title} - PINN\", n_points)\n",
    "    \n",
    "\n",
    "def plot_frame(x_domain: List[float], \n",
    "               y_domain: List[float], \n",
    "               t_domain: List[float], \n",
    "               pinn: 'PINN', \n",
    "               idx: int, \n",
    "               t_value: float, \n",
    "               n_points: int,\n",
    "               length: float,\n",
    "               floor: Callable,\n",
    "               base_dir: str=\".\") -> None:\n",
    "    x, y, _ = get_initial_points(x_domain, y_domain, t_domain, n_points, requires_grad=False)\n",
    "    t = torch.full_like(x, t_value)\n",
    "    z = pinn(x, y, t)\n",
    "    fig = plot_color(z, x, y, n_points, n_points, f\"PINN for t = {t_value}\")\n",
    "    fig = plot_3D(z, x, y, n_points, n_points, length, floor, f\"PINN for t = {t_value}\", n_points)\n",
    "    plt.savefig(base_dir + '/img/img_{:03d}.png'.format(idx))\n",
    "\n",
    "\n",
    "def plot_simulation_by_frame(total_time: float, \n",
    "                             x_domain: List[float], \n",
    "                             y_domain: List[float], \n",
    "                             t_domain: List[float], \n",
    "                             pinn: 'PINN', \n",
    "                             n_points: int,\n",
    "                             length: float,\n",
    "                             floor: Callable,\n",
    "                             step:float=0.01) -> None:\n",
    "    time_values = np.arange(0, total_time, step)\n",
    "\n",
    "    for idx, t_value in enumerate(time_values):\n",
    "        plot_frame(x_domain=x_domain, \n",
    "                   y_domain=y_domain, \n",
    "                   t_domain=t_domain,\n",
    "                   pinn=pinn,\n",
    "                   idx=idx,\n",
    "                   t_value=t_value,\n",
    "                   n_points=n_points,\n",
    "                   length=length,\n",
    "                   floor=floor)\n",
    "\n",
    "def running_average(y, window: int=100):\n",
    "    cumsum = np.cumsum(np.insert(y, 0, 0))\n",
    "    return (cumsum[window:] - cumsum[:-window]) / float(window)\n",
    "\n",
    "def plot_running_average(loss_values, title: str, path: str):\n",
    "    average_loss = running_average(loss_values, window=100)\n",
    "    fig, ax = plt.subplots(figsize=(8, 6), dpi=100)\n",
    "    ax.set_title(title)\n",
    "    ax.set_xlabel(\"Epoch\")\n",
    "    ax.set_ylabel(\"Loss\")\n",
    "    ax.plot(average_loss)\n",
    "    ax.set_yscale('log')\n",
    "    \n",
    "    fig.savefig(f'./results/{path}.png')\n",
    "\n",
    "def plot_solution(pinn: 'PINN', x: torch.Tensor, t: torch.Tensor, figsize=(8, 6), dpi=100):\n",
    "\n",
    "    fig, ax = plt.subplots(figsize=figsize, dpi=dpi)\n",
    "    x_raw = torch.unique(x).reshape(-1, 1)\n",
    "    t_raw = torch.unique(t)\n",
    "\n",
    "    def animate(i):\n",
    "        if not i % 10 == 0:\n",
    "            t_partial = torch.ones_like(x_raw) * t_raw[i]\n",
    "            f_final = f(pinn, x_raw, t_partial)\n",
    "            ax.clear()\n",
    "            ax.plot(\n",
    "                x_raw.detach().numpy(), f_final.detach().numpy(), label=f\"Time {float(t[i])}\"\n",
    "            )\n",
    "            ax.set_ylim(-1, 1)\n",
    "            ax.legend()\n",
    "\n",
    "    n_frames = t_raw.shape[0]\n",
    "    return FuncAnimation(fig, animate, frames=n_frames, interval=100, repeat=False)\n",
    "\n",
    "def plot_color(z: torch.Tensor, x: torch.Tensor, y: torch.Tensor, n_points_x, n_points_t, title, figsize=(8, 6), dpi=100, cmap=\"viridis\"):\n",
    "    fig, ax = plt.subplots(figsize=figsize, dpi=dpi)\n",
    "    z_raw = z.detach().cpu().numpy()\n",
    "    x_raw = x.detach().cpu().numpy()\n",
    "    y_raw = y.detach().cpu().numpy()\n",
    "    X = x_raw.reshape(n_points_x, n_points_t)\n",
    "    Y = y_raw.reshape(n_points_x, n_points_t)\n",
    "    Z = z_raw.reshape(n_points_x, n_points_t)\n",
    "    ax.set_title(title)\n",
    "    ax.set_xlabel(\"x\")\n",
    "    ax.set_ylabel(\"y\")\n",
    "    c = ax.pcolormesh(X, Y, Z, cmap=cmap, vmin=0, vmax=3)\n",
    "    fig.colorbar(c, ax=ax)\n",
    "\n",
    "    return fig\n",
    "\n",
    "def plot_3D(z: torch.Tensor, x: torch.Tensor, y: torch.Tensor, n_points_x, n_points_t, length: float, floor: Callable, title: str, n_points_plot: int, figsize=(8, 6), dpi=100, limit=3):\n",
    "    fig = plt.figure(figsize=figsize)\n",
    "    ax = fig.add_subplot(projection='3d')\n",
    "    z_raw = z.detach().cpu().numpy()\n",
    "    x_raw = x.detach().cpu().numpy()\n",
    "    y_raw = y.detach().cpu().numpy()\n",
    "    X = x_raw.reshape(n_points_x, n_points_t)\n",
    "    Y = y_raw.reshape(n_points_x, n_points_t)\n",
    "    Z = z_raw.reshape(n_points_x, n_points_t)\n",
    "    ax.set_title(title)\n",
    "    ax.set_xlabel(\"x\")\n",
    "    ax.set_ylabel(\"y\")\n",
    "    ax.axes.set_zlim3d(bottom=0, top=limit)\n",
    "\n",
    "    c = ax.plot_surface(X, Y, Z)\n",
    "\n",
    "    x_floor = torch.linspace(0.0, length, n_points_plot)\n",
    "    y_floor = torch.linspace(0.0, length, n_points_plot)\n",
    "    z_floor = torch.zeros((n_points_plot, n_points_plot))\n",
    "    for x_idx, x_coord in enumerate(x_floor):\n",
    "        for y_idx, y_coord in enumerate(y_floor):\n",
    "            z_floor[x_idx, y_idx] = floor(x_idx, y_idx)\n",
    "    x_floor = torch.tile(x_floor, (n_points_plot, 1))\n",
    "    y_floor = torch.tile(y_floor, (n_points_plot, 1)).T\n",
    "    f = ax.plot_surface(x_floor, y_floor, z_floor, color='green', alpha=0.7)\n",
    "\n",
    "    return fig"
   ]
  },
  {
   "cell_type": "code",
   "execution_count": null,
   "metadata": {},
   "outputs": [],
   "source": []
  },
  {
   "cell_type": "code",
   "execution_count": null,
   "metadata": {},
   "outputs": [],
   "source": []
  },
  {
   "cell_type": "code",
   "execution_count": null,
   "metadata": {},
   "outputs": [],
   "source": []
  },
  {
   "cell_type": "code",
   "execution_count": null,
   "metadata": {},
   "outputs": [],
   "source": []
  },
  {
   "cell_type": "code",
   "execution_count": null,
   "metadata": {},
   "outputs": [],
   "source": []
  },
  {
   "cell_type": "code",
   "execution_count": null,
   "metadata": {},
   "outputs": [],
   "source": []
  },
  {
   "cell_type": "code",
   "execution_count": null,
   "metadata": {},
   "outputs": [],
   "source": []
  },
  {
   "cell_type": "code",
   "execution_count": null,
   "metadata": {},
   "outputs": [],
   "source": []
  },
  {
   "cell_type": "code",
   "execution_count": null,
   "metadata": {},
   "outputs": [],
   "source": []
  },
  {
   "cell_type": "code",
   "execution_count": null,
   "metadata": {},
   "outputs": [],
   "source": []
  }
 ],
 "metadata": {
  "accelerator": "GPU",
  "colab": {
   "provenance": []
  },
  "gpuClass": "standard",
  "kernelspec": {
   "display_name": "Python 3 (ipykernel)",
   "language": "python",
   "name": "python3"
  },
  "language_info": {
   "codemirror_mode": {
    "name": "ipython",
    "version": 3
   },
   "file_extension": ".py",
   "mimetype": "text/x-python",
   "name": "python",
   "nbconvert_exporter": "python",
   "pygments_lexer": "ipython3",
   "version": "3.11.5"
  }
 },
 "nbformat": 4,
 "nbformat_minor": 4
}
